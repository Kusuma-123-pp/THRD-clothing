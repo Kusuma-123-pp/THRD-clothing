{
  "nbformat": 4,
  "nbformat_minor": 0,
  "metadata": {
    "colab": {
      "provenance": []
    },
    "kernelspec": {
      "name": "python3",
      "display_name": "Python 3"
    },
    "language_info": {
      "name": "python"
    }
  },
  "cells": [
    {
      "cell_type": "code",
      "execution_count": 2,
      "metadata": {
        "id": "fAeJTBmny1S4"
      },
      "outputs": [],
      "source": [
        "import pandas as pd\n",
        "\n",
        "# Read input files\n",
        "products_df = pd.read_csv('/content/products.csv')\n",
        "sales_df = pd.read_csv('/content/sales.csv')\n",
        "\n",
        "# Merge products with sales on SKU\n",
        "merged_df = pd.merge(products_df, sales_df, on='sku', how='left')\n",
        "merged_df['quantity_sold'] = merged_df['quantity_sold'].fillna(0)\n",
        "\n",
        "def apply_pricing_rules(row):\n",
        "    current_price = row['current_price']\n",
        "    cost_price = row['cost_price']\n",
        "    stock = row['stock']\n",
        "    quantity_sold = row['quantity_sold']\n",
        "    new_price = current_price\n",
        "\n",
        "    if stock < 20 and quantity_sold > 30:\n",
        "        new_price = current_price * 1.15\n",
        "    elif stock > 200 and quantity_sold == 0:\n",
        "        new_price = current_price * 0.7\n",
        "    elif stock > 100 and quantity_sold < 20:\n",
        "        new_price = current_price * 0.9\n",
        "\n",
        "    min_price = cost_price * 1.2\n",
        "    if new_price < min_price:\n",
        "        new_price = min_price\n",
        "        return round(current_price, 2), round(new_price, 2)\n",
        "\n",
        "merged_df[['old_price', 'new_price']] = merged_df.apply(\n",
        "    apply_pricing_rules, axis=1, result_type='expand'\n",
        ")\n",
        "\n",
        "\n",
        "merged_df['old_price'] = merged_df['old_price'].apply(lambda x: f\"${x}\")\n",
        "merged_df['new_price'] = merged_df['new_price'].apply(lambda x: f\"${x}\")\n",
        "\n",
        "\n",
        "output_df = merged_df[['sku', 'old_price', 'new_price']]\n",
        "output_df.to_csv('updated_prices.csv', index=False)\n"
      ]
    },
    {
      "cell_type": "code",
      "source": [],
      "metadata": {
        "id": "ztRtGswgzrLp"
      },
      "execution_count": null,
      "outputs": []
    }
  ]
}